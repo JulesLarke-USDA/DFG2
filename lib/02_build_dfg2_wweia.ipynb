{
 "cells": [
  {
   "cell_type": "markdown",
   "id": "0154dc29",
   "metadata": {},
   "source": [
    "#### Title: dfg2_wweia_diet_recalls\n",
    "#### Purpose: link DFG2 data with WWEIA ingredients; yeilding intakes for all glycan features across WWEIA 01-18\n",
    "#### Date: February 14, 2024\n",
    "#### Author: Jules Larke"
   ]
  },
  {
   "cell_type": "code",
   "execution_count": 1,
   "id": "299652ff",
   "metadata": {},
   "outputs": [],
   "source": [
    "# Import modules\n",
    "import pandas as pd\n",
    "import numpy as np\n",
    "from sklearn.linear_model import LinearRegression"
   ]
  },
  {
   "cell_type": "code",
   "execution_count": 2,
   "id": "e0eb2383",
   "metadata": {},
   "outputs": [],
   "source": [
    "# Load data\n",
    "dfg2_data = pd.read_csv('../data/wweia/dfg2_wweia_data.csv')\n",
    "recalls = pd.read_csv('/Users/jules.larke/work/github/wweia_ingredients/data/04/wweia_all_recalls.txt', sep='\\t')"
   ]
  },
  {
   "cell_type": "code",
   "execution_count": 3,
   "id": "0ac97590",
   "metadata": {},
   "outputs": [],
   "source": [
    "# Select variables of interest for DFG2\n",
    "recalls_select = recalls[['SEQN', 'RIAGENDR', 'RIDAGEYR', 'RIDRETH1', 'DMDEDUC2', 'DMDEDUC3', 'ingred_code', 'ingred_desc', 'Carbohydrate', 'Fiber, total dietary', 'Sugars, total', 'Energy', 'Alcohol', 'Ingred_consumed_g', 'diet_wts']]"
   ]
  },
  {
   "cell_type": "code",
   "execution_count": 4,
   "id": "2f6b1af0",
   "metadata": {},
   "outputs": [],
   "source": [
    "# subset to include 18+ y/o\n",
    "adults = recalls_select[recalls_select['RIDAGEYR'] > 17]"
   ]
  },
  {
   "cell_type": "code",
   "execution_count": 5,
   "id": "ac406137",
   "metadata": {},
   "outputs": [
    {
     "name": "stderr",
     "output_type": "stream",
     "text": [
      "/var/folders/28/kcjp2s310sx44jpn8yqs8y9c929k6r/T/ipykernel_96522/3960642062.py:1: SettingWithCopyWarning: \n",
      "A value is trying to be set on a copy of a slice from a DataFrame\n",
      "\n",
      "See the caveats in the documentation: https://pandas.pydata.org/pandas-docs/stable/user_guide/indexing.html#returning-a-view-versus-a-copy\n",
      "  adults.rename(columns={'RIDAGEYR': 'Age'},inplace=True)\n",
      "/var/folders/28/kcjp2s310sx44jpn8yqs8y9c929k6r/T/ipykernel_96522/3960642062.py:2: SettingWithCopyWarning: \n",
      "A value is trying to be set on a copy of a slice from a DataFrame\n",
      "\n",
      "See the caveats in the documentation: https://pandas.pydata.org/pandas-docs/stable/user_guide/indexing.html#returning-a-view-versus-a-copy\n",
      "  adults.rename(columns={'RIAGENDR': 'Sex'},inplace=True)\n",
      "/var/folders/28/kcjp2s310sx44jpn8yqs8y9c929k6r/T/ipykernel_96522/3960642062.py:3: SettingWithCopyWarning: \n",
      "A value is trying to be set on a copy of a slice from a DataFrame\n",
      "\n",
      "See the caveats in the documentation: https://pandas.pydata.org/pandas-docs/stable/user_guide/indexing.html#returning-a-view-versus-a-copy\n",
      "  adults.rename(columns={'RIDRETH1': 'Ethnicity'},inplace=True)\n"
     ]
    }
   ],
   "source": [
    "adults.rename(columns={'RIDAGEYR': 'Age'},inplace=True)\n",
    "adults.rename(columns={'RIAGENDR': 'Sex'},inplace=True)\n",
    "adults.rename(columns={'RIDRETH1': 'Ethnicity'},inplace=True)"
   ]
  },
  {
   "cell_type": "markdown",
   "id": "ca2eb75a",
   "metadata": {},
   "source": [
    "### Education"
   ]
  },
  {
   "cell_type": "code",
   "execution_count": 6,
   "id": "07019e50",
   "metadata": {},
   "outputs": [],
   "source": [
    "# value is NA, replace with 'unknown'\n",
    "adults.loc[adults.SEQN==16247, 'DMDEDUC2'] = 9"
   ]
  },
  {
   "cell_type": "code",
   "execution_count": 7,
   "id": "adf36ec1",
   "metadata": {
    "scrolled": true
   },
   "outputs": [
    {
     "name": "stderr",
     "output_type": "stream",
     "text": [
      "/var/folders/28/kcjp2s310sx44jpn8yqs8y9c929k6r/T/ipykernel_96522/2139188517.py:2: SettingWithCopyWarning: \n",
      "A value is trying to be set on a copy of a slice from a DataFrame.\n",
      "Try using .loc[row_indexer,col_indexer] = value instead\n",
      "\n",
      "See the caveats in the documentation: https://pandas.pydata.org/pandas-docs/stable/user_guide/indexing.html#returning-a-view-versus-a-copy\n",
      "  adults['DMDEDUC3'] = adults['DMDEDUC3'].replace([13, 14, 15], 'high school graduate or equivalent')\n",
      "/var/folders/28/kcjp2s310sx44jpn8yqs8y9c929k6r/T/ipykernel_96522/2139188517.py:3: SettingWithCopyWarning: \n",
      "A value is trying to be set on a copy of a slice from a DataFrame.\n",
      "Try using .loc[row_indexer,col_indexer] = value instead\n",
      "\n",
      "See the caveats in the documentation: https://pandas.pydata.org/pandas-docs/stable/user_guide/indexing.html#returning-a-view-versus-a-copy\n",
      "  adults['DMDEDUC3'] = adults['DMDEDUC3'].replace([9, 10, 11, 12, 66, 99], 'less than high school graduate')\n"
     ]
    }
   ],
   "source": [
    "# recode edu levels for age 19 and under\n",
    "adults['DMDEDUC3'] = adults['DMDEDUC3'].replace([13, 14, 15], 'high school graduate or equivalent')\n",
    "adults['DMDEDUC3'] = adults['DMDEDUC3'].replace([9, 10, 11, 12, 66, 99], 'less than high school graduate')"
   ]
  },
  {
   "cell_type": "code",
   "execution_count": 8,
   "id": "9f75f232",
   "metadata": {},
   "outputs": [
    {
     "name": "stderr",
     "output_type": "stream",
     "text": [
      "/var/folders/28/kcjp2s310sx44jpn8yqs8y9c929k6r/T/ipykernel_96522/1115660030.py:2: SettingWithCopyWarning: \n",
      "A value is trying to be set on a copy of a slice from a DataFrame.\n",
      "Try using .loc[row_indexer,col_indexer] = value instead\n",
      "\n",
      "See the caveats in the documentation: https://pandas.pydata.org/pandas-docs/stable/user_guide/indexing.html#returning-a-view-versus-a-copy\n",
      "  adults['DMDEDUC2'] = adults['DMDEDUC2'].replace([1, 2], 'less than high school graduate')\n",
      "/var/folders/28/kcjp2s310sx44jpn8yqs8y9c929k6r/T/ipykernel_96522/1115660030.py:3: SettingWithCopyWarning: \n",
      "A value is trying to be set on a copy of a slice from a DataFrame.\n",
      "Try using .loc[row_indexer,col_indexer] = value instead\n",
      "\n",
      "See the caveats in the documentation: https://pandas.pydata.org/pandas-docs/stable/user_guide/indexing.html#returning-a-view-versus-a-copy\n",
      "  adults['DMDEDUC2'] = adults['DMDEDUC2'].replace(3, 'high school graduate or equivalent')\n",
      "/var/folders/28/kcjp2s310sx44jpn8yqs8y9c929k6r/T/ipykernel_96522/1115660030.py:4: SettingWithCopyWarning: \n",
      "A value is trying to be set on a copy of a slice from a DataFrame.\n",
      "Try using .loc[row_indexer,col_indexer] = value instead\n",
      "\n",
      "See the caveats in the documentation: https://pandas.pydata.org/pandas-docs/stable/user_guide/indexing.html#returning-a-view-versus-a-copy\n",
      "  adults['DMDEDUC2'] = adults['DMDEDUC2'].replace(4, 'some college')\n",
      "/var/folders/28/kcjp2s310sx44jpn8yqs8y9c929k6r/T/ipykernel_96522/1115660030.py:5: SettingWithCopyWarning: \n",
      "A value is trying to be set on a copy of a slice from a DataFrame.\n",
      "Try using .loc[row_indexer,col_indexer] = value instead\n",
      "\n",
      "See the caveats in the documentation: https://pandas.pydata.org/pandas-docs/stable/user_guide/indexing.html#returning-a-view-versus-a-copy\n",
      "  adults['DMDEDUC2'] = adults['DMDEDUC2'].replace(5, 'college graduate')\n",
      "/var/folders/28/kcjp2s310sx44jpn8yqs8y9c929k6r/T/ipykernel_96522/1115660030.py:6: SettingWithCopyWarning: \n",
      "A value is trying to be set on a copy of a slice from a DataFrame.\n",
      "Try using .loc[row_indexer,col_indexer] = value instead\n",
      "\n",
      "See the caveats in the documentation: https://pandas.pydata.org/pandas-docs/stable/user_guide/indexing.html#returning-a-view-versus-a-copy\n",
      "  adults['DMDEDUC2'] = adults['DMDEDUC2'].replace([7, 9], 'unknown')\n"
     ]
    }
   ],
   "source": [
    "# recode edu levels for age 20 and older\n",
    "adults['DMDEDUC2'] = adults['DMDEDUC2'].replace([1, 2], 'less than high school graduate')\n",
    "adults['DMDEDUC2'] = adults['DMDEDUC2'].replace(3, 'high school graduate or equivalent')\n",
    "adults['DMDEDUC2'] = adults['DMDEDUC2'].replace(4, 'some college')\n",
    "adults['DMDEDUC2'] = adults['DMDEDUC2'].replace(5, 'college graduate')\n",
    "adults['DMDEDUC2'] = adults['DMDEDUC2'].replace([7, 9], 'unknown')"
   ]
  },
  {
   "cell_type": "code",
   "execution_count": 9,
   "id": "5971d827",
   "metadata": {
    "scrolled": true
   },
   "outputs": [
    {
     "name": "stderr",
     "output_type": "stream",
     "text": [
      "/var/folders/28/kcjp2s310sx44jpn8yqs8y9c929k6r/T/ipykernel_96522/2443542517.py:2: SettingWithCopyWarning: \n",
      "A value is trying to be set on a copy of a slice from a DataFrame.\n",
      "Try using .loc[row_indexer,col_indexer] = value instead\n",
      "\n",
      "See the caveats in the documentation: https://pandas.pydata.org/pandas-docs/stable/user_guide/indexing.html#returning-a-view-versus-a-copy\n",
      "  adults['education'] = adults.filter(like='DMDEDUC').ffill(axis=1).iloc[:,-1].copy()\n"
     ]
    }
   ],
   "source": [
    "# create single feature for education including all participants\n",
    "adults['education'] = adults.filter(like='DMDEDUC').ffill(axis=1).iloc[:,-1].copy()"
   ]
  },
  {
   "cell_type": "code",
   "execution_count": 10,
   "id": "c699a06e",
   "metadata": {},
   "outputs": [],
   "source": [
    "adults = adults.drop(columns=['DMDEDUC2', 'DMDEDUC3'])"
   ]
  },
  {
   "cell_type": "markdown",
   "id": "14427e8a",
   "metadata": {},
   "source": [
    "### BMI"
   ]
  },
  {
   "cell_type": "code",
   "execution_count": 11,
   "id": "42e03d3d",
   "metadata": {},
   "outputs": [],
   "source": [
    "# Exam data - Body Measures (BMI: BMXBMI)\n",
    "bmx_B = pd.read_sas('https://wwwn.cdc.gov/Nchs/Nhanes/2001-2002/BMX_B.XPT', format='xport', encoding='utf-8')\n",
    "bmx_C = pd.read_sas('https://wwwn.cdc.gov/Nchs/Nhanes/2003-2004/BMX_C.XPT', format='xport', encoding='utf-8')\n",
    "bmx_D = pd.read_sas('https://wwwn.cdc.gov/Nchs/Nhanes/2005-2006/BMX_D.XPT', format='xport', encoding='utf-8')\n",
    "bmx_E = pd.read_sas('https://wwwn.cdc.gov/Nchs/Nhanes/2007-2008/BMX_E.XPT', format='xport', encoding='utf-8')\n",
    "bmx_F = pd.read_sas('https://wwwn.cdc.gov/Nchs/Nhanes/2009-2010/BMX_F.XPT', format='xport', encoding='utf-8')\n",
    "bmx_G = pd.read_sas('https://wwwn.cdc.gov/Nchs/Nhanes/2011-2012/BMX_G.XPT', format='xport', encoding='utf-8')\n",
    "bmx_H = pd.read_sas('https://wwwn.cdc.gov/Nchs/Nhanes/2013-2014/BMX_H.XPT', format='xport', encoding='utf-8')\n",
    "bmx_I = pd.read_sas('https://wwwn.cdc.gov/Nchs/Nhanes/2015-2016/BMX_I.XPT', format='xport', encoding='utf-8')\n",
    "bmx_J = pd.read_sas('https://wwwn.cdc.gov/Nchs/Nhanes/2017-2018/BMX_J.XPT', format='xport', encoding='utf-8')"
   ]
  },
  {
   "cell_type": "code",
   "execution_count": 12,
   "id": "a4e8e485",
   "metadata": {},
   "outputs": [],
   "source": [
    "bmx_B = bmx_B[['SEQN', 'BMXBMI', 'BMXWAIST']]\n",
    "bmx_C = bmx_C[['SEQN', 'BMXBMI', 'BMXWAIST']]\n",
    "bmx_D = bmx_D[['SEQN', 'BMXBMI', 'BMXWAIST']]\n",
    "bmx_E = bmx_E[['SEQN', 'BMXBMI', 'BMXWAIST']]\n",
    "bmx_F = bmx_F[['SEQN', 'BMXBMI', 'BMXWAIST']]\n",
    "bmx_G = bmx_G[['SEQN', 'BMXBMI', 'BMXWAIST']]\n",
    "bmx_H = bmx_H[['SEQN', 'BMXBMI', 'BMXWAIST']]\n",
    "bmx_I = bmx_I[['SEQN', 'BMXBMI', 'BMXWAIST']]\n",
    "bmx_J = bmx_J[['SEQN', 'BMXBMI', 'BMXWAIST']]\n",
    "\n",
    "bmi = pd.concat([bmx_B, bmx_C, bmx_D, bmx_E, bmx_F, bmx_G, bmx_H, bmx_I, bmx_J])\n",
    "bmi.rename(columns={'BMXBMI': 'BMI', 'BMXWAIST': 'WC'}, inplace=True)"
   ]
  },
  {
   "cell_type": "code",
   "execution_count": 13,
   "id": "f8254b86",
   "metadata": {},
   "outputs": [],
   "source": [
    "adults = adults.merge(bmi, on='SEQN', how='left')"
   ]
  },
  {
   "cell_type": "markdown",
   "id": "b12040b9",
   "metadata": {},
   "source": [
    "### Impute BMI from WC for those who have WC measured (197)"
   ]
  },
  {
   "cell_type": "code",
   "execution_count": 14,
   "id": "e71e1185",
   "metadata": {},
   "outputs": [],
   "source": [
    "no_bmi = adults[adults['BMI'].isnull()]"
   ]
  },
  {
   "cell_type": "code",
   "execution_count": 15,
   "id": "30432d19",
   "metadata": {},
   "outputs": [],
   "source": [
    "no_bmi = no_bmi[['SEQN', 'Sex', 'BMI', 'WC']]"
   ]
  },
  {
   "cell_type": "code",
   "execution_count": 16,
   "id": "96c8b9dc",
   "metadata": {},
   "outputs": [],
   "source": [
    "no_bmi = no_bmi.drop_duplicates(subset=['SEQN'])"
   ]
  },
  {
   "cell_type": "code",
   "execution_count": 17,
   "id": "691538de",
   "metadata": {},
   "outputs": [],
   "source": [
    "no_bmi = no_bmi[~no_bmi['WC'].isnull()]"
   ]
  },
  {
   "cell_type": "code",
   "execution_count": 18,
   "id": "5eb74ac9",
   "metadata": {},
   "outputs": [],
   "source": [
    "no_bmi_m = no_bmi[no_bmi['Sex']=='Male']\n",
    "no_bmi_f = no_bmi[no_bmi['Sex']=='Female']"
   ]
  },
  {
   "cell_type": "code",
   "execution_count": 19,
   "id": "f89b1456",
   "metadata": {},
   "outputs": [],
   "source": [
    "bmi_wc = adults[['SEQN', 'Sex', 'BMI', 'WC']]"
   ]
  },
  {
   "cell_type": "code",
   "execution_count": 20,
   "id": "bdfa3071",
   "metadata": {},
   "outputs": [],
   "source": [
    "bmi_wc = bmi_wc.drop_duplicates(subset=['SEQN'])"
   ]
  },
  {
   "cell_type": "code",
   "execution_count": 21,
   "id": "9172aab9",
   "metadata": {},
   "outputs": [],
   "source": [
    "bmi_wc = bmi_wc.dropna(subset=['BMI', 'WC'])"
   ]
  },
  {
   "cell_type": "code",
   "execution_count": 22,
   "id": "b8db7ced",
   "metadata": {},
   "outputs": [],
   "source": [
    "bmi_wc_m = bmi_wc[bmi_wc['Sex']=='Male']"
   ]
  },
  {
   "cell_type": "code",
   "execution_count": 23,
   "id": "a92fda4a",
   "metadata": {},
   "outputs": [],
   "source": [
    "bmi_wc_f = bmi_wc[bmi_wc['Sex']=='Female']"
   ]
  },
  {
   "cell_type": "code",
   "execution_count": 24,
   "id": "55363425",
   "metadata": {},
   "outputs": [],
   "source": [
    "x_m = np.array(bmi_wc_m['WC']).reshape((-1, 1))\n",
    "y_m = np.array(bmi_wc_m['BMI']).reshape((-1, 1))\n",
    "z_m = np.array(no_bmi_m['WC']).reshape((-1, 1))\n",
    "\n",
    "x_f = np.array(bmi_wc_f['WC']).reshape((-1, 1))\n",
    "y_f = np.array(bmi_wc_f['BMI']).reshape((-1, 1))\n",
    "z_f = np.array(no_bmi_f['WC']).reshape((-1, 1))"
   ]
  },
  {
   "cell_type": "code",
   "execution_count": 25,
   "id": "4573fdba",
   "metadata": {},
   "outputs": [],
   "source": [
    "model_m = LinearRegression().fit(x_m, y_m)"
   ]
  },
  {
   "cell_type": "code",
   "execution_count": 26,
   "id": "158bbfdd",
   "metadata": {},
   "outputs": [
    {
     "name": "stdout",
     "output_type": "stream",
     "text": [
      "coefficient of determination: 0.8461023921101636\n",
      "intercept: [-5.87308117]\n",
      "slope: [[0.34191912]]\n"
     ]
    }
   ],
   "source": [
    "r_sq = model_m.score(x_m, y_m)\n",
    "print(f\"coefficient of determination: {r_sq}\")\n",
    "print(f\"intercept: {model_m.intercept_}\")\n",
    "print(f\"slope: {model_m.coef_}\")"
   ]
  },
  {
   "cell_type": "code",
   "execution_count": 27,
   "id": "31013cd9",
   "metadata": {},
   "outputs": [
    {
     "name": "stdout",
     "output_type": "stream",
     "text": [
      "predicted response:\n",
      "[[28.01110387]\n",
      " [26.81438694]\n",
      " [27.15630606]\n",
      " [24.11322587]\n",
      " [29.82327521]\n",
      " [35.6359003 ]\n",
      " [25.61767001]\n",
      " [27.73756857]\n",
      " [30.47292155]\n",
      " [31.80640612]\n",
      " [28.01110387]\n",
      " [29.54973992]\n",
      " [26.09635678]\n",
      " [18.09544931]\n",
      " [30.47292155]\n",
      " [24.04484205]\n",
      " [29.58393183]\n",
      " [22.19847878]\n",
      " [22.91650894]\n",
      " [24.7628722 ]\n",
      " [27.01953841]\n",
      " [24.86544794]\n",
      " [27.73756857]\n",
      " [21.00176186]\n",
      " [38.7131724 ]\n",
      " [32.72958775]\n",
      " [38.09771798]\n",
      " [25.92539722]\n",
      " [31.12256788]\n",
      " [21.00176186]\n",
      " [22.67716556]\n",
      " [36.93519296]\n",
      " [33.55019365]\n",
      " [30.71226493]\n",
      " [28.25044725]\n",
      " [26.60923546]\n",
      " [34.50756719]\n",
      " [26.81438694]\n",
      " [25.51509427]\n",
      " [24.4893369 ]\n",
      " [26.57504355]\n",
      " [32.69539584]\n",
      " [28.45559872]\n",
      " [31.66963848]\n",
      " [30.40453772]\n",
      " [22.67716556]\n",
      " [33.78953703]\n",
      " [28.59236637]\n",
      " [25.5834781 ]\n",
      " [32.0115576 ]\n",
      " [21.1385295 ]\n",
      " [30.3361539 ]\n",
      " [31.53287083]\n",
      " [28.69494211]\n",
      " [26.60923546]\n",
      " [31.7380223 ]\n",
      " [34.98625396]\n",
      " [30.81484067]\n",
      " [29.17362888]\n",
      " [33.61857747]\n",
      " [29.61812374]\n",
      " [23.6345391 ]\n",
      " [48.04756444]\n",
      " [27.36145753]\n",
      " [28.07948769]\n",
      " [32.31928481]\n",
      " [29.00266932]\n",
      " [28.83170976]\n",
      " [24.21580161]\n",
      " [21.61721628]\n",
      " [33.44761791]\n",
      " [36.38812236]\n",
      " [30.54130537]\n",
      " [30.19938625]\n",
      " [32.38766863]\n",
      " [26.95115459]\n",
      " [36.31973854]\n",
      " [38.84994005]\n",
      " [25.17317515]\n",
      " [41.14079817]\n",
      " [33.34504218]\n",
      " [24.4893369 ]\n",
      " [26.74600311]\n",
      " [33.85792086]\n",
      " [30.3361539 ]\n",
      " [35.32817309]\n",
      " [50.167463  ]\n",
      " [26.09635678]\n",
      " [21.92494349]\n",
      " [29.03686123]\n",
      " [33.31085026]\n",
      " [27.15630606]\n",
      " [27.56660901]\n",
      " [31.01999214]\n",
      " [27.80595239]\n",
      " [20.83080229]\n",
      " [43.77357541]\n",
      " [33.31085026]\n",
      " [36.01201133]\n",
      " [35.49913265]\n",
      " [30.6096892 ]\n",
      " [27.46403327]\n",
      " [33.10569879]\n",
      " [34.95206205]\n",
      " [21.9591354 ]\n",
      " [24.11322587]\n",
      " [26.60923546]\n",
      " [31.1909517 ]\n",
      " [27.29307371]\n",
      " [25.00221559]\n",
      " [41.61948494]\n",
      " [21.82236775]\n",
      " [31.66963848]\n",
      " [18.23221696]]\n"
     ]
    }
   ],
   "source": [
    "y_pred_m = model_m.predict(z_m)\n",
    "print(f\"predicted response:\\n{y_pred_m}\")"
   ]
  },
  {
   "cell_type": "code",
   "execution_count": 28,
   "id": "c868d647",
   "metadata": {},
   "outputs": [],
   "source": [
    "model_f = LinearRegression().fit(x_f, y_f)"
   ]
  },
  {
   "cell_type": "code",
   "execution_count": 29,
   "id": "127773ef",
   "metadata": {},
   "outputs": [
    {
     "name": "stdout",
     "output_type": "stream",
     "text": [
      "coefficient of determination: 0.8384576719614756\n",
      "intercept: [-9.98255724]\n",
      "slope: [[0.40583216]]\n"
     ]
    }
   ],
   "source": [
    "r_sq = model_f.score(x_f, y_f)\n",
    "print(f\"coefficient of determination: {r_sq}\")\n",
    "print(f\"intercept: {model_f.intercept_}\")\n",
    "print(f\"slope: {model_f.coef_}\")"
   ]
  },
  {
   "cell_type": "code",
   "execution_count": 30,
   "id": "3b5df4fc",
   "metadata": {
    "scrolled": true
   },
   "outputs": [
    {
     "name": "stdout",
     "output_type": "stream",
     "text": [
      "predicted response:\n",
      "[[21.99332731]\n",
      " [30.02842669]\n",
      " [21.61721628]\n",
      " [35.32817309]\n",
      " [30.71226493]\n",
      " [20.72822656]\n",
      " [22.36943835]\n",
      " [20.557267  ]\n",
      " [28.18206343]\n",
      " [43.53423202]\n",
      " [32.52443628]\n",
      " [21.00176186]\n",
      " [28.14787151]\n",
      " [28.79751785]\n",
      " [35.73847603]\n",
      " [20.86499421]\n",
      " [25.72024575]\n",
      " [41.38014155]\n",
      " [28.90009358]\n",
      " [31.05418405]\n",
      " [31.7380223 ]\n",
      " [27.29307371]\n",
      " [32.07994142]\n",
      " [21.48044863]\n",
      " [34.98625396]\n",
      " [41.58529303]\n",
      " [27.49822518]\n",
      " [35.22559735]\n",
      " [37.65322312]\n",
      " [33.9604966 ]\n",
      " [22.33524643]\n",
      " [30.19938625]\n",
      " [27.97691195]\n",
      " [26.30150825]\n",
      " [27.08792223]\n",
      " [31.08837597]\n",
      " [29.41297227]\n",
      " [18.91605521]\n",
      " [17.10388386]\n",
      " [41.03822243]\n",
      " [31.60125465]\n",
      " [36.62746575]\n",
      " [28.48979064]\n",
      " [29.515548  ]\n",
      " [29.58393183]\n",
      " [22.19847878]\n",
      " [30.13100242]\n",
      " [32.04574951]\n",
      " [22.43782217]\n",
      " [21.07014568]\n",
      " [27.53241709]\n",
      " [29.68650757]\n",
      " [28.79751785]\n",
      " [26.13054869]\n",
      " [29.54973992]\n",
      " [32.04574951]\n",
      " [28.96847741]\n",
      " [29.03686123]\n",
      " [25.0364075 ]\n",
      " [19.77085301]\n",
      " [32.31928481]\n",
      " [23.22423615]\n",
      " [31.05418405]\n",
      " [45.4147872 ]\n",
      " [35.0888297 ]\n",
      " [21.85655966]\n",
      " [33.27665835]\n",
      " [28.9342855 ]\n",
      " [28.18206343]\n",
      " [24.7628722 ]\n",
      " [33.58438556]\n",
      " [22.71135747]\n",
      " [37.68741503]\n",
      " [43.50004011]\n",
      " [42.50847466]\n",
      " [25.78862957]\n",
      " [26.9853465 ]\n",
      " [24.83125603]\n",
      " [38.7131724 ]\n",
      " [32.69539584]\n",
      " [30.71226493]\n",
      " [31.60125465]\n",
      " [26.7118112 ]]\n"
     ]
    }
   ],
   "source": [
    "y_pred_f = model_m.predict(z_f)\n",
    "print(f\"predicted response:\\n{y_pred_f}\")"
   ]
  },
  {
   "cell_type": "code",
   "execution_count": 31,
   "id": "107eae58",
   "metadata": {},
   "outputs": [
    {
     "name": "stderr",
     "output_type": "stream",
     "text": [
      "/var/folders/28/kcjp2s310sx44jpn8yqs8y9c929k6r/T/ipykernel_96522/2323749325.py:1: SettingWithCopyWarning: \n",
      "A value is trying to be set on a copy of a slice from a DataFrame.\n",
      "Try using .loc[row_indexer,col_indexer] = value instead\n",
      "\n",
      "See the caveats in the documentation: https://pandas.pydata.org/pandas-docs/stable/user_guide/indexing.html#returning-a-view-versus-a-copy\n",
      "  no_bmi_m['BMI'] = y_pred_m.flatten()\n"
     ]
    }
   ],
   "source": [
    "no_bmi_m['BMI'] = y_pred_m.flatten()"
   ]
  },
  {
   "cell_type": "code",
   "execution_count": 32,
   "id": "8242f572",
   "metadata": {},
   "outputs": [
    {
     "name": "stderr",
     "output_type": "stream",
     "text": [
      "/var/folders/28/kcjp2s310sx44jpn8yqs8y9c929k6r/T/ipykernel_96522/4169922082.py:1: SettingWithCopyWarning: \n",
      "A value is trying to be set on a copy of a slice from a DataFrame.\n",
      "Try using .loc[row_indexer,col_indexer] = value instead\n",
      "\n",
      "See the caveats in the documentation: https://pandas.pydata.org/pandas-docs/stable/user_guide/indexing.html#returning-a-view-versus-a-copy\n",
      "  no_bmi_f['BMI'] = y_pred_f.flatten()\n"
     ]
    }
   ],
   "source": [
    "no_bmi_f['BMI'] = y_pred_f.flatten()"
   ]
  },
  {
   "cell_type": "code",
   "execution_count": 33,
   "id": "8e9006f6",
   "metadata": {},
   "outputs": [],
   "source": [
    "no_bmi = pd.concat([no_bmi_m, no_bmi_f])"
   ]
  },
  {
   "cell_type": "code",
   "execution_count": 34,
   "id": "779ef8f5",
   "metadata": {},
   "outputs": [],
   "source": [
    "adults.set_index('SEQN', inplace=True)"
   ]
  },
  {
   "cell_type": "code",
   "execution_count": 35,
   "id": "906c763e",
   "metadata": {},
   "outputs": [],
   "source": [
    "no_bmi.set_index('SEQN', inplace=True)"
   ]
  },
  {
   "cell_type": "code",
   "execution_count": 36,
   "id": "2bd652f7",
   "metadata": {},
   "outputs": [],
   "source": [
    "adults['BMI'].update(no_bmi['BMI'])"
   ]
  },
  {
   "cell_type": "code",
   "execution_count": 37,
   "id": "7b771af1",
   "metadata": {},
   "outputs": [],
   "source": [
    "adults.dropna(subset='BMI', inplace=True)"
   ]
  },
  {
   "cell_type": "code",
   "execution_count": 38,
   "id": "40ec6808",
   "metadata": {},
   "outputs": [],
   "source": [
    "adults.reset_index(inplace=True)"
   ]
  },
  {
   "cell_type": "markdown",
   "id": "370429f8",
   "metadata": {},
   "source": [
    "### Diabetes"
   ]
  },
  {
   "cell_type": "code",
   "execution_count": 39,
   "id": "b21f4741",
   "metadata": {},
   "outputs": [],
   "source": [
    "#Lab data - fasting plasma insulin\n",
    "\n",
    "fgi_B = pd.read_sas('https://wwwn.cdc.gov/Nchs/Nhanes/2001-2002/L10AM_B.XPT', format='xport', encoding='utf-8')\n",
    "fgi_C = pd.read_sas('https://wwwn.cdc.gov/Nchs/Nhanes/2003-2004/L10AM_C.XPT', format='xport', encoding='utf-8')\n",
    "fgi_D = pd.read_sas('https://wwwn.cdc.gov/Nchs/Nhanes/2005-2006/GLU_D.XPT', format='xport', encoding='utf-8')\n",
    "fgi_E = pd.read_sas('https://wwwn.cdc.gov/Nchs/Nhanes/2007-2008/GLU_E.XPT', format='xport', encoding='utf-8')\n",
    "fgi_F = pd.read_sas('https://wwwn.cdc.gov/Nchs/Nhanes/2009-2010/GLU_F.XPT', format='xport', encoding='utf-8')\n",
    "fgi_G = pd.read_sas('https://wwwn.cdc.gov/Nchs/Nhanes/2011-2012/GLU_G.XPT', format='xport', encoding='utf-8')\n",
    "fg_H = pd.read_sas('https://wwwn.cdc.gov/Nchs/Nhanes/2013-2014/GLU_H.XPT', format='xport', encoding='utf-8')\n",
    "fi_H = pd.read_sas('https://wwwn.cdc.gov/Nchs/Nhanes/2013-2014/INS_H.XPT', format='xport', encoding='utf-8')\n",
    "fg_I = pd.read_sas('https://wwwn.cdc.gov/Nchs/Nhanes/2015-2016/GLU_I.XPT', format='xport', encoding='utf-8')\n",
    "fi_I = pd.read_sas('https://wwwn.cdc.gov/Nchs/Nhanes/2015-2016/INS_I.XPT', format='xport', encoding='utf-8')\n",
    "fg_J = pd.read_sas('https://wwwn.cdc.gov/Nchs/Nhanes/2017-2018/GLU_J.XPT', format='xport', encoding='utf-8')\n",
    "fi_J = pd.read_sas('https://wwwn.cdc.gov/Nchs/Nhanes/2017-2018/INS_J.XPT', format='xport', encoding='utf-8')"
   ]
  },
  {
   "cell_type": "code",
   "execution_count": 40,
   "id": "a6f0a636",
   "metadata": {},
   "outputs": [],
   "source": [
    "fgi_B = fgi_B[['SEQN', 'LBXGLU', 'LBXIN']]\n",
    "fgi_C = fgi_C[['SEQN', 'LBXGLU', 'LBXIN']]\n",
    "fgi_D = fgi_D[['SEQN', 'LBXGLU', 'LBXIN']]\n",
    "fgi_E = fgi_E[['SEQN', 'LBXGLU', 'LBXIN']]\n",
    "fgi_F = fgi_F[['SEQN', 'LBXGLU', 'LBXIN']]\n",
    "fgi_G = fgi_G[['SEQN', 'LBXGLU', 'LBXIN']]\n",
    "\n",
    "fg_HIJ = pd.concat([fg_H, fg_I, fg_J])\n",
    "fi_HIJ = pd.concat([fi_H, fi_I, fi_J])\n",
    "fg_HIJ = fg_HIJ[['SEQN', 'LBXGLU']]\n",
    "fi_HIJ = fi_HIJ[['SEQN', 'LBXIN']]\n",
    "fgi_HIJ = fg_HIJ.merge(fi_HIJ, on='SEQN', how='left')\n",
    "\n",
    "fgi = pd.concat([fgi_B, fgi_C, fgi_D, fgi_E, fgi_F, fgi_G, fgi_HIJ])\n",
    "fgi.rename(columns={'LBXGLU':'fasting_glc_mg_dL', 'LBXIN':'fasting_ins_uU_mL'}, inplace=True)"
   ]
  },
  {
   "cell_type": "code",
   "execution_count": 41,
   "id": "f00271d3",
   "metadata": {},
   "outputs": [],
   "source": [
    "adults = adults.merge(fgi, on='SEQN', how='left')"
   ]
  },
  {
   "cell_type": "code",
   "execution_count": 42,
   "id": "a064cc07",
   "metadata": {},
   "outputs": [],
   "source": [
    "adults['diabetes_fasting_glc'] = np.where(adults['fasting_glc_mg_dL'] >= 126, 'yes', 'no')"
   ]
  },
  {
   "cell_type": "code",
   "execution_count": 43,
   "id": "0ac35f33",
   "metadata": {},
   "outputs": [],
   "source": [
    "#Lab data - glycohemoglobic (hba1c)\n",
    "\n",
    "gh_B = pd.read_sas('https://wwwn.cdc.gov/Nchs/Nhanes/2001-2002/L10_B.XPT', format='xport', encoding='utf-8')\n",
    "gh_C = pd.read_sas('https://wwwn.cdc.gov/Nchs/Nhanes/2003-2004/L10_C.XPT', format='xport', encoding='utf-8')\n",
    "gh_D = pd.read_sas('https://wwwn.cdc.gov/Nchs/Nhanes/2005-2006/GHB_D.XPT', format='xport', encoding='utf-8')\n",
    "gh_E = pd.read_sas('https://wwwn.cdc.gov/Nchs/Nhanes/2007-2008/GHB_E.XPT', format='xport', encoding='utf-8')\n",
    "gh_F = pd.read_sas('https://wwwn.cdc.gov/Nchs/Nhanes/2009-2010/GHB_F.XPT', format='xport', encoding='utf-8')\n",
    "gh_G = pd.read_sas('https://wwwn.cdc.gov/Nchs/Nhanes/2011-2012/GHB_G.XPT', format='xport', encoding='utf-8')\n",
    "gh_H = pd.read_sas('https://wwwn.cdc.gov/Nchs/Nhanes/2013-2014/GHB_H.XPT', format='xport', encoding='utf-8')\n",
    "gh_I = pd.read_sas('https://wwwn.cdc.gov/Nchs/Nhanes/2015-2016/GHB_I.XPT', format='xport', encoding='utf-8')\n",
    "gh_J = pd.read_sas('https://wwwn.cdc.gov/Nchs/Nhanes/2017-2018/GHB_J.XPT', format='xport', encoding='utf-8')"
   ]
  },
  {
   "cell_type": "code",
   "execution_count": 44,
   "id": "820ededb",
   "metadata": {},
   "outputs": [],
   "source": [
    "gh_B = gh_B[['SEQN', 'LBXGH']]\n",
    "gh_C = gh_C[['SEQN', 'LBXGH']]\n",
    "gh_D = gh_D[['SEQN', 'LBXGH']]\n",
    "gh_E = gh_E[['SEQN', 'LBXGH']]\n",
    "gh_F = gh_F[['SEQN', 'LBXGH']]\n",
    "gh_G = gh_G[['SEQN', 'LBXGH']]\n",
    "gh_H = gh_H[['SEQN', 'LBXGH']]\n",
    "gh_I = gh_I[['SEQN', 'LBXGH']]\n",
    "gh_J = gh_J[['SEQN', 'LBXGH']]\n",
    "\n",
    "gh = pd.concat([gh_B, gh_C, gh_D, gh_E, gh_F, gh_G, gh_H, gh_I, gh_J])\n",
    "gh.rename(columns={'LBXGH':'hba1c_percent'}, inplace=True)"
   ]
  },
  {
   "cell_type": "code",
   "execution_count": 45,
   "id": "df8e7b42",
   "metadata": {},
   "outputs": [],
   "source": [
    "adults = adults.merge(gh, on='SEQN', how='left')"
   ]
  },
  {
   "cell_type": "code",
   "execution_count": 46,
   "id": "6cadaf39",
   "metadata": {},
   "outputs": [],
   "source": [
    "adults['diabetes_hba1c'] = np.where(adults['hba1c_percent'] >= 6.5, 'yes', 'no')"
   ]
  },
  {
   "cell_type": "code",
   "execution_count": 47,
   "id": "a21ee01c",
   "metadata": {},
   "outputs": [],
   "source": [
    "#Questionnaire data - taking insulin or glucose lowering meds\n",
    "\n",
    "diq_B = pd.read_sas('https://wwwn.cdc.gov/Nchs/Nhanes/2001-2002/DIQ_B.XPT', format='xport', encoding='utf-8')\n",
    "diq_C = pd.read_sas('https://wwwn.cdc.gov/Nchs/Nhanes/2003-2004/DIQ_C.XPT', format='xport', encoding='utf-8')\n",
    "diq_D = pd.read_sas('https://wwwn.cdc.gov/Nchs/Nhanes/2005-2006/DIQ_D.XPT', format='xport', encoding='utf-8')\n",
    "diq_E = pd.read_sas('https://wwwn.cdc.gov/Nchs/Nhanes/2007-2008/DIQ_E.XPT', format='xport', encoding='utf-8')\n",
    "diq_F = pd.read_sas('https://wwwn.cdc.gov/Nchs/Nhanes/2009-2010/DIQ_F.XPT', format='xport', encoding='utf-8')\n",
    "diq_G = pd.read_sas('https://wwwn.cdc.gov/Nchs/Nhanes/2011-2012/DIQ_G.XPT', format='xport', encoding='utf-8')\n",
    "diq_H = pd.read_sas('https://wwwn.cdc.gov/Nchs/Nhanes/2013-2014/DIQ_H.XPT', format='xport', encoding='utf-8')\n",
    "diq_I = pd.read_sas('https://wwwn.cdc.gov/Nchs/Nhanes/2015-2016/DIQ_I.XPT', format='xport', encoding='utf-8')\n",
    "diq_J = pd.read_sas('https://wwwn.cdc.gov/Nchs/Nhanes/2017-2018/DIQ_J.XPT', format='xport', encoding='utf-8')"
   ]
  },
  {
   "cell_type": "code",
   "execution_count": 48,
   "id": "2f74c4ac",
   "metadata": {},
   "outputs": [],
   "source": [
    "diq_B = diq_B[['SEQN', 'DIQ050', 'DIQ070']]\n",
    "diq_C = diq_C[['SEQN', 'DIQ050', 'DIQ070']]\n",
    "diq_D = diq_D[['SEQN', 'DIQ050', 'DID070']]\n",
    "diq_E = diq_E[['SEQN', 'DIQ050', 'DID070']]\n",
    "diq_F = diq_F[['SEQN', 'DIQ050', 'DIQ070']]\n",
    "diq_G = diq_G[['SEQN', 'DIQ050', 'DIQ070']]\n",
    "diq_H = diq_H[['SEQN', 'DIQ050', 'DIQ070']]\n",
    "diq_I = diq_I[['SEQN', 'DIQ050', 'DIQ070']]\n",
    "diq_J = diq_J[['SEQN', 'DIQ050', 'DIQ070']]\n",
    "\n",
    "diq = pd.concat([diq_B, diq_C, diq_D, diq_E, diq_F, diq_G, diq_H, diq_I, diq_J])\n",
    "diq.rename(columns={'DIQ050':'taking_insulin', 'DIQ070':'taking_diabetic_pills', 'DID070':'taking_diabetic_pills_D_E'}, inplace=True)"
   ]
  },
  {
   "cell_type": "code",
   "execution_count": 49,
   "id": "db455709",
   "metadata": {},
   "outputs": [],
   "source": [
    "adults = adults.merge(diq, on='SEQN', how='left')"
   ]
  },
  {
   "cell_type": "code",
   "execution_count": 50,
   "id": "c4137f80",
   "metadata": {},
   "outputs": [],
   "source": [
    "# recode levels for taking insulin / diabetes meds\n",
    "adults['taking_insulin'] = adults['taking_insulin'].replace(1, 'yes')\n",
    "adults['taking_insulin'] = adults['taking_insulin'].replace(2, 'no')\n",
    "adults['taking_insulin'] = adults['taking_insulin'].replace([7, 9], 'unknown')\n",
    "\n",
    "adults['taking_diabetic_pills'] = adults['taking_diabetic_pills'].replace(1, 'yes')\n",
    "adults['taking_diabetic_pills'] = adults['taking_diabetic_pills'].replace(2, 'no')\n",
    "adults['taking_diabetic_pills'] = adults['taking_diabetic_pills'].replace([7, 9], 'unknown')\n",
    "\n",
    "adults['taking_diabetic_pills_D_E'] = adults['taking_diabetic_pills_D_E'].replace(1, 'yes')\n",
    "adults['taking_diabetic_pills_D_E'] = adults['taking_diabetic_pills_D_E'].replace(2, 'no')\n",
    "adults['taking_diabetic_pills_D_E'] = adults['taking_diabetic_pills_D_E'].replace([7, 9], 'unknown')"
   ]
  },
  {
   "cell_type": "code",
   "execution_count": 51,
   "id": "ab1b2582",
   "metadata": {},
   "outputs": [],
   "source": [
    "# create single feature for diabetes (yes/no)\n",
    "adults['diabetes'] = np.where(adults['fasting_glc_mg_dL'] >= 126, 'yes', 'no')\n",
    "adults['diabetes'] = np.where(adults['hba1c_percent'] >= 6.5, 'yes', adults['diabetes'])\n",
    "adults['diabetes'] = np.where(adults['taking_insulin'] == 'yes', 'yes', adults['diabetes'])\n",
    "adults['diabetes'] = np.where(adults['taking_diabetic_pills'] == 'yes', 'yes', adults['diabetes'])\n",
    "adults['diabetes'] = np.where(adults['taking_diabetic_pills_D_E'] == 'yes', 'yes', adults['diabetes'])"
   ]
  },
  {
   "cell_type": "code",
   "execution_count": 52,
   "id": "caec4076",
   "metadata": {},
   "outputs": [],
   "source": [
    "cov = adults[['SEQN', 'Sex', 'Age', 'Ethnicity', 'Carbohydrate', 'Fiber, total dietary', 'BMI']]"
   ]
  },
  {
   "cell_type": "code",
   "execution_count": 53,
   "id": "616ba8f0",
   "metadata": {},
   "outputs": [],
   "source": [
    "cov = cov.drop_duplicates(subset='SEQN')"
   ]
  },
  {
   "cell_type": "code",
   "execution_count": 54,
   "id": "868dcc0f",
   "metadata": {},
   "outputs": [
    {
     "name": "stdout",
     "output_type": "stream",
     "text": [
      "(47158, 7)\n",
      "(47158, 7)\n",
      "no NAs\n"
     ]
    }
   ],
   "source": [
    "print(cov.dropna().shape)\n",
    "print(cov.shape)\n",
    "print('no NAs')"
   ]
  },
  {
   "cell_type": "markdown",
   "id": "fffde2ff",
   "metadata": {},
   "source": [
    "### Apply cutoff for percent of calories mapable to DFG2"
   ]
  },
  {
   "cell_type": "code",
   "execution_count": 55,
   "id": "2f0057fb",
   "metadata": {
    "scrolled": true
   },
   "outputs": [],
   "source": [
    "# calculate the number of calories per ingredient to determine cutoff of percent calories from carbs consumed\n",
    "adults['carb_cal'] = adults['Carbohydrate'].copy() * 4"
   ]
  },
  {
   "cell_type": "code",
   "execution_count": 56,
   "id": "be9f81fe",
   "metadata": {},
   "outputs": [],
   "source": [
    "# find matches in WWEIA to DFG2\n",
    "recall_match = adults[adults['ingred_code'].isin(dfg2_data['ingred_code'])]"
   ]
  },
  {
   "cell_type": "code",
   "execution_count": 57,
   "id": "103bfc11",
   "metadata": {},
   "outputs": [],
   "source": [
    "# calculate the percent of calories from carbohydrates consumed based on the foods that match DFG2\n",
    "kcal_carb_percent_seqn = recall_match.groupby('SEQN')['carb_cal'].agg(np.sum) / adults.groupby('SEQN')['carb_cal'].agg(np.sum)"
   ]
  },
  {
   "cell_type": "code",
   "execution_count": 58,
   "id": "6163cb15",
   "metadata": {},
   "outputs": [],
   "source": [
    "kcal_carb_percent_seqn = kcal_carb_percent_seqn.reset_index()"
   ]
  },
  {
   "cell_type": "code",
   "execution_count": 59,
   "id": "22d652f8",
   "metadata": {},
   "outputs": [],
   "source": [
    "# determine cutoff for percent of calories from carbs consumed\n",
    "#kcal_carb_percent_seqn = kcal_carb_percent_seqn.reset_index()\n",
    "kcal_carb_percent_80 = kcal_carb_percent_seqn[kcal_carb_percent_seqn['carb_cal']>0.8000]"
   ]
  },
  {
   "cell_type": "code",
   "execution_count": 60,
   "id": "867dc5fa",
   "metadata": {},
   "outputs": [],
   "source": [
    "# subset the participants by cutoff of 75% calories from carbs consumed\n",
    "dfg_wweia_80 = recall_match[recall_match['SEQN'].isin(kcal_carb_percent_80['SEQN'])]"
   ]
  },
  {
   "cell_type": "code",
   "execution_count": 61,
   "id": "f48af592",
   "metadata": {
    "scrolled": true
   },
   "outputs": [],
   "source": [
    "# merge wweia data with dfg2 glycan data\n",
    "dfg_wweia = dfg_wweia_80.merge(dfg2_data, on='ingred_code', how='left')"
   ]
  },
  {
   "cell_type": "code",
   "execution_count": 62,
   "id": "9b192f5d",
   "metadata": {},
   "outputs": [],
   "source": [
    "# sum calories across participants for energy adjustment (per 1000 kcal)\n",
    "cal_consumed = dfg_wweia.groupby('SEQN')['Energy'].agg(np.sum)"
   ]
  },
  {
   "cell_type": "code",
   "execution_count": 63,
   "id": "78b5081e",
   "metadata": {},
   "outputs": [],
   "source": [
    "# create index column for groupby level calculations\n",
    "dfg_wweia['idx'] = dfg_wweia.index"
   ]
  },
  {
   "cell_type": "code",
   "execution_count": 64,
   "id": "72bed893",
   "metadata": {},
   "outputs": [],
   "source": [
    "# groupby to sum all intake variables for purpose of energy adjustment\n",
    "ingred_all = dfg_wweia.groupby(['SEQN', 'diet_wts', 'idx', 'Sex', 'Age', 'BMI', 'diabetes',\n",
    "                                'ingred_code', 'ingred_desc', 'sample_id', 'simple_name', \n",
    "                                'food_group', 'Ethnicity', 'Energy', 'Ingred_consumed_g', 'carb_cal'])[['Carbohydrate',\n",
    "       'Fiber, total dietary', 'Sugars, total', 'Alcohol',\n",
    "       'Arabinan', 'Galactan',\n",
    "       'Xyloglucan', 'Xylan', 'Mannan', 'Beta-Glucan', 'Chitin', 'Starch',\n",
    "       'Cellulose', 'Arabinoxylan', 'Galactomannan', 'Free_Fructose',\n",
    "       'Free_Glucose', 'Free_Sucrose', 'Free_Maltose',\n",
    "       'Free_Lactose(trehalose)', 'Free_Kestose', 'Free_Raffinose',\n",
    "       'Free_Maltotetraose', 'Free_Stachyose', 'Free_Maltopentaose',\n",
    "       'Free_Verbascose', 'Free_Maltohexaose', 'Mono_Glucose',\n",
    "       'Mono_Galactose', 'Mono_Fructose', 'Mono_Xylose', 'Mono_Arabinose',\n",
    "       'Mono_Fucose', 'Mono_Rhamnose', 'Mono_GalA', 'Mono_Mannose',\n",
    "       'Mono_Ribose', 't-Glucose', '4-Glucose', '6-Glucose',\n",
    "       '3-Glucose/3-Galactose', '2-Glucose', '4,6-Glucose', '3,4-Glucose',\n",
    "       '2,4-Glucose', '3,4,6-Glucose', 't-Galactose', '6-Galactose',\n",
    "       '4-Galactose', '2-Galactose', '4,6-Galactose', '3,6-Galactose',\n",
    "       '3,4-Galactose', 't-p-Xylose', '4-p-Xylose', '3-Xylose ', '2-Xylose',\n",
    "       '3,4-P-Xylose/3,5-Arabinose', '2,4-p-Xylose', 't-f-Arabinose',\n",
    "       't-p-Arabinose', '5-f-Arabinose', '3-Arabinose', '2-f-Arabinose',\n",
    "       '2,3-f-Arabinose', 't-Fucose', 't-Rhamnose', '4-Rhamnose ',\n",
    "       '2-Rhamnose', '2,4-Rhamnose', '4-Glucosamine/GlcNac',\n",
    "       '3-Glucosamine/GlcNac', 't-Mannose', '4-Mannose', '3-Mannose',\n",
    "       '2-Mannose', '4,6-Mannose', '2,X-Mannose', '3,4,6-Mannose', 'X-Hexose',\n",
    "       '2,X,X-Hexose (I)', '2,X,X-Hexose (II)', '2,X,X-Hexose (III)',\n",
    "       't-Deoxyhexose']].agg(np.sum)"
   ]
  },
  {
   "cell_type": "code",
   "execution_count": 65,
   "id": "fd705082",
   "metadata": {},
   "outputs": [],
   "source": [
    "# apply energy adjustment to correct for differences in total enegry consumed (per 1000 kcal for all participants)\n",
    "ingred_all_adjust = ingred_all.div(cal_consumed, axis = 0, level = 0)\n",
    "ingred_all_adjust = ingred_all_adjust.mul(1000)\n",
    "ingred_all_adjust = ingred_all_adjust.reset_index()"
   ]
  },
  {
   "cell_type": "code",
   "execution_count": 66,
   "id": "b5a3b78f",
   "metadata": {},
   "outputs": [],
   "source": [
    "# create variable to correct all glycan features for amount of each ingredient consumed\n",
    "ingred_g = ingred_all_adjust.groupby('idx')['Ingred_consumed_g'].agg(np.sum)"
   ]
  },
  {
   "cell_type": "code",
   "execution_count": 67,
   "id": "748f4321",
   "metadata": {},
   "outputs": [],
   "source": [
    "# groupby all intake variables (except carbs and fiber and sugar, already per 100 g) to adjust for amount of ingredient consumed\n",
    "ingred_all_adjust_g_consumed = ingred_all_adjust.groupby(['SEQN', 'diet_wts', 'idx', 'Sex', 'Age', 'BMI', 'diabetes', 'Ethnicity', \n",
    "                                                        'ingred_code', 'ingred_desc', 'sample_id', 'simple_name', \n",
    "                                'food_group', 'Energy', 'Ingred_consumed_g', 'carb_cal', 'Carbohydrate',\n",
    "       'Fiber, total dietary', 'Sugars, total', 'Alcohol'])[[\n",
    "       'Arabinan', 'Galactan',\n",
    "       'Xyloglucan', 'Xylan', 'Mannan', 'Beta-Glucan', 'Chitin', 'Starch',\n",
    "       'Cellulose', 'Arabinoxylan', 'Galactomannan', 'Free_Fructose',\n",
    "       'Free_Glucose', 'Free_Sucrose', 'Free_Maltose',\n",
    "       'Free_Lactose(trehalose)', 'Free_Kestose', 'Free_Raffinose',\n",
    "       'Free_Maltotetraose', 'Free_Stachyose', 'Free_Maltopentaose',\n",
    "       'Free_Verbascose', 'Free_Maltohexaose', 'Mono_Glucose',\n",
    "       'Mono_Galactose', 'Mono_Fructose', 'Mono_Xylose', 'Mono_Arabinose',\n",
    "       'Mono_Fucose', 'Mono_Rhamnose', 'Mono_GalA', 'Mono_Mannose',\n",
    "       'Mono_Ribose', 't-Glucose', '4-Glucose', '6-Glucose',\n",
    "       '3-Glucose/3-Galactose', '2-Glucose', '4,6-Glucose', '3,4-Glucose',\n",
    "       '2,4-Glucose', '3,4,6-Glucose', 't-Galactose', '6-Galactose',\n",
    "       '4-Galactose', '2-Galactose', '4,6-Galactose', '3,6-Galactose',\n",
    "       '3,4-Galactose', 't-p-Xylose', '4-p-Xylose', '3-Xylose ', '2-Xylose',\n",
    "       '3,4-P-Xylose/3,5-Arabinose', '2,4-p-Xylose', 't-f-Arabinose',\n",
    "       't-p-Arabinose', '5-f-Arabinose', '3-Arabinose', '2-f-Arabinose',\n",
    "       '2,3-f-Arabinose', 't-Fucose', 't-Rhamnose', '4-Rhamnose ',\n",
    "       '2-Rhamnose', '2,4-Rhamnose', '4-Glucosamine/GlcNac',\n",
    "       '3-Glucosamine/GlcNac', 't-Mannose', '4-Mannose', '3-Mannose',\n",
    "       '2-Mannose', '4,6-Mannose', '2,X-Mannose', '3,4,6-Mannose', 'X-Hexose',\n",
    "       '2,X,X-Hexose (I)', '2,X,X-Hexose (II)', '2,X,X-Hexose (III)',\n",
    "       't-Deoxyhexose']].agg(np.sum)"
   ]
  },
  {
   "cell_type": "code",
   "execution_count": 68,
   "id": "678a4895",
   "metadata": {},
   "outputs": [],
   "source": [
    "# multiply each glycan feature by amount of ingredient consumed and dividing by 100\n",
    "ingred_all_adjust_g_consumed = ingred_all_adjust_g_consumed.mul(ingred_g, axis=0, level='idx').div(100, axis=0, level='idx')"
   ]
  },
  {
   "cell_type": "code",
   "execution_count": 69,
   "id": "22f11358",
   "metadata": {},
   "outputs": [],
   "source": [
    "# remove columns that aren't needed\n",
    "ingred_all_adjust_g_consumed.reset_index(inplace=True)\n",
    "ingred_all_adjust_g_consumed.drop(columns=['idx', 'carb_cal'], inplace=True)"
   ]
  },
  {
   "cell_type": "code",
   "execution_count": 70,
   "id": "6c2abba7",
   "metadata": {},
   "outputs": [],
   "source": [
    "by_seqn = ingred_all_adjust_g_consumed.groupby(['SEQN', 'Age', 'BMI', 'Sex', 'diabetes', 'Ethnicity', 'diet_wts'])[['Carbohydrate',\n",
    "       'Fiber, total dietary', 'Sugars, total', 'Alcohol',\n",
    "       'Arabinan', 'Galactan',\n",
    "       'Xyloglucan', 'Xylan', 'Mannan', 'Beta-Glucan', 'Chitin', 'Starch',\n",
    "       'Cellulose', 'Arabinoxylan', 'Galactomannan', 'Free_Fructose',\n",
    "       'Free_Glucose', 'Free_Sucrose', 'Free_Maltose',\n",
    "       'Free_Lactose(trehalose)', 'Free_Kestose', 'Free_Raffinose',\n",
    "       'Free_Maltotetraose', 'Free_Stachyose', 'Free_Maltopentaose',\n",
    "       'Free_Verbascose', 'Free_Maltohexaose', 'Mono_Glucose',\n",
    "       'Mono_Galactose', 'Mono_Fructose', 'Mono_Xylose', 'Mono_Arabinose',\n",
    "       'Mono_Fucose', 'Mono_Rhamnose', 'Mono_GalA', 'Mono_Mannose',\n",
    "       'Mono_Ribose', 't-Glucose', '4-Glucose', '6-Glucose',\n",
    "       '3-Glucose/3-Galactose', '2-Glucose', '4,6-Glucose', '3,4-Glucose',\n",
    "       '2,4-Glucose', '3,4,6-Glucose', 't-Galactose', '6-Galactose',\n",
    "       '4-Galactose', '2-Galactose', '4,6-Galactose', '3,6-Galactose',\n",
    "       '3,4-Galactose', 't-p-Xylose', '4-p-Xylose', '3-Xylose ', '2-Xylose',\n",
    "       '3,4-P-Xylose/3,5-Arabinose', '2,4-p-Xylose', 't-f-Arabinose',\n",
    "       't-p-Arabinose', '5-f-Arabinose', '3-Arabinose', '2-f-Arabinose',\n",
    "       '2,3-f-Arabinose', 't-Fucose', 't-Rhamnose', '4-Rhamnose ',\n",
    "       '2-Rhamnose', '2,4-Rhamnose', '4-Glucosamine/GlcNac',\n",
    "       '3-Glucosamine/GlcNac', 't-Mannose', '4-Mannose', '3-Mannose',\n",
    "       '2-Mannose', '4,6-Mannose', '2,X-Mannose', '3,4,6-Mannose', 'X-Hexose',\n",
    "       '2,X,X-Hexose (I)', '2,X,X-Hexose (II)', '2,X,X-Hexose (III)',\n",
    "       't-Deoxyhexose']].agg(np.sum)"
   ]
  },
  {
   "cell_type": "code",
   "execution_count": 71,
   "id": "fbf585cc",
   "metadata": {},
   "outputs": [],
   "source": [
    "by_seqn.reset_index(inplace=True)"
   ]
  },
  {
   "cell_type": "code",
   "execution_count": 72,
   "id": "0090ac5c",
   "metadata": {},
   "outputs": [],
   "source": [
    "homa = dfg_wweia[['SEQN', 'fasting_glc_mg_dL', 'fasting_ins_uU_mL']]\n",
    "homa = homa.drop_duplicates(subset='SEQN')\n",
    "homa = homa.dropna()"
   ]
  },
  {
   "cell_type": "code",
   "execution_count": 73,
   "id": "afca04e5",
   "metadata": {},
   "outputs": [],
   "source": [
    "homa['homa_ir'] = homa['fasting_ins_uU_mL'] * homa['fasting_glc_mg_dL'] / 405"
   ]
  },
  {
   "cell_type": "code",
   "execution_count": 74,
   "id": "319c1041",
   "metadata": {},
   "outputs": [],
   "source": [
    "homa['ir'] = np.where(homa['homa_ir'] >= 2.5, 1, 0)"
   ]
  },
  {
   "cell_type": "code",
   "execution_count": 75,
   "id": "a081031d",
   "metadata": {},
   "outputs": [],
   "source": [
    "homa_merge = homa[['SEQN', 'ir']]"
   ]
  },
  {
   "cell_type": "code",
   "execution_count": 76,
   "id": "3c783018",
   "metadata": {},
   "outputs": [],
   "source": [
    "cal_carb_final = homa_merge.merge(kcal_carb_percent_80, on='SEQN', how='left')"
   ]
  },
  {
   "cell_type": "code",
   "execution_count": 77,
   "id": "c64869ff",
   "metadata": {},
   "outputs": [
    {
     "data": {
      "text/plain": [
       "0.9169234540021844"
      ]
     },
     "execution_count": 77,
     "metadata": {},
     "output_type": "execute_result"
    }
   ],
   "source": [
    "cal_carb_final['carb_cal'].mean()"
   ]
  },
  {
   "cell_type": "code",
   "execution_count": 78,
   "id": "9049d4ac",
   "metadata": {},
   "outputs": [],
   "source": [
    "seqn_homa = by_seqn.merge(homa_merge, on='SEQN', how='left')"
   ]
  },
  {
   "cell_type": "code",
   "execution_count": 79,
   "id": "f5d95dbc",
   "metadata": {},
   "outputs": [],
   "source": [
    "seqn_homa = seqn_homa[seqn_homa['diabetes']=='no'].dropna(subset='ir')"
   ]
  },
  {
   "cell_type": "code",
   "execution_count": 80,
   "id": "c1b010aa",
   "metadata": {},
   "outputs": [
    {
     "data": {
      "text/plain": [
       "0.0    7908\n",
       "1.0    5753\n",
       "Name: ir, dtype: int64"
      ]
     },
     "execution_count": 80,
     "metadata": {},
     "output_type": "execute_result"
    }
   ],
   "source": [
    "seqn_homa['ir'].value_counts()"
   ]
  },
  {
   "cell_type": "code",
   "execution_count": 81,
   "id": "eb545db9",
   "metadata": {},
   "outputs": [
    {
     "data": {
      "text/plain": [
       "(13661, 92)"
      ]
     },
     "execution_count": 81,
     "metadata": {},
     "output_type": "execute_result"
    }
   ],
   "source": [
    "seqn_homa.shape"
   ]
  },
  {
   "cell_type": "code",
   "execution_count": 82,
   "id": "c14db960",
   "metadata": {},
   "outputs": [],
   "source": [
    "seqn_homa.rename(columns={'RIDRETH1': 'Ethnicity'},inplace=True)"
   ]
  },
  {
   "cell_type": "code",
   "execution_count": 83,
   "id": "42a0d0b6",
   "metadata": {},
   "outputs": [],
   "source": [
    "seqn_homa.drop(columns='diabetes', inplace=True)"
   ]
  },
  {
   "cell_type": "code",
   "execution_count": 84,
   "id": "aa046b10",
   "metadata": {},
   "outputs": [],
   "source": [
    "homa_ingredients = ingred_all_adjust_g_consumed[ingred_all_adjust_g_consumed['SEQN'].isin(seqn_homa['SEQN'])]"
   ]
  },
  {
   "cell_type": "code",
   "execution_count": 86,
   "id": "2bfb8834",
   "metadata": {},
   "outputs": [],
   "source": [
    "homa_ingredients[['SEQN', 'ingred_desc', 'simple_name', 'Free_Raffinose', 'Free_Maltohexaose']].to_csv('../output/02/homa_ingredients.csv', index=None)"
   ]
  },
  {
   "cell_type": "code",
   "execution_count": 87,
   "id": "f2bf7a91",
   "metadata": {},
   "outputs": [],
   "source": [
    "sample_wt = seqn_homa[['SEQN', 'diet_wts']]\n",
    "sample_wt.to_csv('../output/02/sample_wt_homa.csv', index=None)"
   ]
  },
  {
   "cell_type": "code",
   "execution_count": 88,
   "id": "b84c1b72",
   "metadata": {},
   "outputs": [],
   "source": [
    "outcome = seqn_homa[['SEQN', 'ir']]\n",
    "outcome.to_csv('../output/02/outcome_homa.csv', index=None)"
   ]
  },
  {
   "cell_type": "code",
   "execution_count": 89,
   "id": "124a6268",
   "metadata": {},
   "outputs": [],
   "source": [
    "seqn_homa.drop(columns=['diet_wts', 'ir']).to_csv('../output/02/dfg2_homa_mod.csv',index=None)"
   ]
  },
  {
   "cell_type": "code",
   "execution_count": 90,
   "id": "d17b7154",
   "metadata": {},
   "outputs": [],
   "source": [
    "ingred_source = ingred_all_adjust_g_consumed[['SEQN', 'ingred_desc', 'simple_name', 'Free_Raffinose', 'Free_Maltohexaose', '4,6-Glucose', '2-Xylose', 'Free_Verbascose']]\n",
    "\n",
    "ingred_source = ingred_source[ingred_source['SEQN'].isin(seqn_homa['SEQN'])]\n",
    "\n",
    "ingred_source.to_csv('../output/02/ingred_source_top_glycans.csv', index=None)"
   ]
  },
  {
   "cell_type": "code",
   "execution_count": 91,
   "id": "0f5d862c",
   "metadata": {},
   "outputs": [],
   "source": [
    "no_alc = seqn_homa[seqn_homa['Alcohol']==0]"
   ]
  },
  {
   "cell_type": "code",
   "execution_count": 92,
   "id": "9a2bf726",
   "metadata": {},
   "outputs": [],
   "source": [
    "no_alc_ingred = ingred_all_adjust_g_consumed[ingred_all_adjust_g_consumed['SEQN'].isin(no_alc['SEQN'])]"
   ]
  },
  {
   "cell_type": "code",
   "execution_count": 93,
   "id": "aa063bc7",
   "metadata": {},
   "outputs": [],
   "source": [
    "no_alc_ingred = no_alc_ingred[['SEQN', 'diet_wts', 'Sex', 'Age', 'BMI', 'diabetes', 'Ethnicity',\n",
    "       'ingred_code', 'ingred_desc', 'sample_id', 'simple_name', 'Fiber, total dietary', 'Xyloglucan', 'Free_Raffinose', 'Mono_Fucose', '2-Galactose']]"
   ]
  },
  {
   "cell_type": "code",
   "execution_count": 94,
   "id": "057abd56",
   "metadata": {},
   "outputs": [],
   "source": [
    "no_alc_ingred.to_csv('../output/02/homa_no_alc_ingred.csv', index=None)"
   ]
  },
  {
   "cell_type": "code",
   "execution_count": 95,
   "id": "30dbbb0e",
   "metadata": {},
   "outputs": [],
   "source": [
    "no_alc[['SEQN', 'ir']].to_csv('../output/02/homa_outcome_no_alc.csv', index=None)"
   ]
  },
  {
   "cell_type": "code",
   "execution_count": 96,
   "id": "8005a827",
   "metadata": {},
   "outputs": [],
   "source": [
    "no_alc.drop(columns=['Alcohol', 'ir']).to_csv('../output/02/dfg2_homa_no_alc.csv', index=None)"
   ]
  }
 ],
 "metadata": {
  "kernelspec": {
   "display_name": "Python 3 (ipykernel)",
   "language": "python",
   "name": "python3"
  },
  "language_info": {
   "codemirror_mode": {
    "name": "ipython",
    "version": 3
   },
   "file_extension": ".py",
   "mimetype": "text/x-python",
   "name": "python",
   "nbconvert_exporter": "python",
   "pygments_lexer": "ipython3",
   "version": "3.8.8"
  }
 },
 "nbformat": 4,
 "nbformat_minor": 5
}
