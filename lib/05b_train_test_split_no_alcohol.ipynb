{
 "cells": [
  {
   "cell_type": "code",
   "execution_count": 3,
   "id": "2947b5da-a5b2-4658-aa70-d7e3342523e4",
   "metadata": {},
   "outputs": [],
   "source": [
    "import pandas as pd"
   ]
  },
  {
   "cell_type": "code",
   "execution_count": 4,
   "id": "0a2ecb6c-403e-4d48-a2ab-96c76cfe4c25",
   "metadata": {},
   "outputs": [],
   "source": [
    "no_alc = pd.read_csv('../output/02/dfg2_homa_no_alc.csv')"
   ]
  },
  {
   "cell_type": "code",
   "execution_count": 5,
   "id": "b1efc5b9-dd22-4fbe-8585-21cb422d0707",
   "metadata": {},
   "outputs": [],
   "source": [
    "x_in = pd.read_csv('../output/04/mod_filt.csv')"
   ]
  },
  {
   "cell_type": "code",
   "execution_count": 6,
   "id": "f28974d0-db10-4708-bc46-d29197b533ee",
   "metadata": {},
   "outputs": [],
   "source": [
    "y_in = pd.read_csv('../output/02/homa_outcome_no_alc.csv', index_col=['SEQN'])"
   ]
  },
  {
   "cell_type": "code",
   "execution_count": 7,
   "id": "81f126c5-37ec-4ae5-980c-62da8da771e3",
   "metadata": {},
   "outputs": [],
   "source": [
    "sw = pd.read_csv('../output/02/sample_wt_homa.csv')"
   ]
  },
  {
   "cell_type": "code",
   "execution_count": 8,
   "id": "7eb06456-4063-47ed-8044-415b4ab45326",
   "metadata": {},
   "outputs": [],
   "source": [
    "x_in = x_in[x_in['SEQN'].isin(no_alc['SEQN'])]"
   ]
  },
  {
   "cell_type": "code",
   "execution_count": 9,
   "id": "509f5cc1-1dae-4b4a-8c2a-c5733fc5d162",
   "metadata": {},
   "outputs": [
    {
     "data": {
      "text/plain": [
       "(10260, 81)"
      ]
     },
     "execution_count": 9,
     "metadata": {},
     "output_type": "execute_result"
    }
   ],
   "source": [
    "x_in.shape"
   ]
  },
  {
   "cell_type": "code",
   "execution_count": 10,
   "id": "cd9f4419-7ef0-4d24-9eda-07656cc960e3",
   "metadata": {},
   "outputs": [],
   "source": [
    "sw = sw[sw['SEQN'].isin(x_in['SEQN'])]"
   ]
  },
  {
   "cell_type": "code",
   "execution_count": 11,
   "id": "1cb5014f-9d8e-4c17-9c32-f82700d6637c",
   "metadata": {},
   "outputs": [],
   "source": [
    "sw = sw.set_index('SEQN')"
   ]
  },
  {
   "cell_type": "code",
   "execution_count": 12,
   "id": "0341f6c9-0f16-44ff-90c7-4f3e5fbc1c24",
   "metadata": {},
   "outputs": [],
   "source": [
    "x_in = x_in.set_index('SEQN')"
   ]
  },
  {
   "cell_type": "code",
   "execution_count": 13,
   "id": "32c6bb3d-786d-4499-83c2-67625526c065",
   "metadata": {},
   "outputs": [
    {
     "data": {
      "text/plain": [
       "Index(['Age', 'BMI', 'Sex', 'Ethnicity', 'Carbohydrate',\n",
       "       'Fiber, total dietary', 'Sugars, total', 'Arabinan', 'Galactan',\n",
       "       'Xyloglucan', 'Xylan', 'Mannan', 'Beta-Glucan', 'Chitin', 'Starch',\n",
       "       'Cellulose', 'Galactomannan', 'Free_Fructose', 'Free_Glucose',\n",
       "       'Free_Sucrose', 'Free_Maltose', 'Free_Lactose(trehalose)',\n",
       "       'Free_Kestose', 'Free_Raffinose', 'Free_Maltotetraose',\n",
       "       'Free_Stachyose', 'Free_Verbascose', 'Free_Maltohexaose',\n",
       "       'Mono_Galactose', 'Mono_Fructose', 'Mono_Xylose', 'Mono_Fucose',\n",
       "       'Mono_Rhamnose', 'Mono_GalA', 'Mono_Mannose', 'Mono_Ribose',\n",
       "       't-Glucose', '4-Glucose', '6-Glucose', '3-Glucose/3-Galactose',\n",
       "       '2-Glucose', '4,6-Glucose', '3,4-Glucose', '2,4-Glucose',\n",
       "       '3,4,6-Glucose', 't-Galactose', '6-Galactose', '4-Galactose',\n",
       "       '2-Galactose', '4,6-Galactose', '3,6-Galactose', '3,4-Galactose',\n",
       "       't-p-Xylose', '4-p-Xylose', '3-Xylose', '2-Xylose',\n",
       "       '3,4-P-Xylose/3,5-Arabinose', '2,4-p-Xylose', 't-f-Arabinose',\n",
       "       't-p-Arabinose', '5-f-Arabinose', '3-Arabinose', '2-f-Arabinose',\n",
       "       '2,3-f-Arabinose', 't-Fucose', 't-Rhamnose', '4-Rhamnose', '2-Rhamnose',\n",
       "       '2,4-Rhamnose', 't-Mannose', '4-Mannose', '3-Mannose', '2-Mannose',\n",
       "       '4,6-Mannose', '2,X-Mannose', '3,4,6-Mannose', 'poly_diversity',\n",
       "       'free_diversity', 'mono_diversity', 'linkage_diversity'],\n",
       "      dtype='object')"
      ]
     },
     "execution_count": 13,
     "metadata": {},
     "output_type": "execute_result"
    }
   ],
   "source": [
    "x_in.columns"
   ]
  },
  {
   "cell_type": "code",
   "execution_count": 14,
   "id": "7ebbee50-5c5b-42da-aa55-8dba0a1522fe",
   "metadata": {},
   "outputs": [
    {
     "name": "stdout",
     "output_type": "stream",
     "text": [
      "(10260, 80)\n",
      "(10260, 1)\n",
      "(10260, 1)\n"
     ]
    }
   ],
   "source": [
    "print(x_in.shape)\n",
    "print(y_in.shape)\n",
    "print(sw.shape)"
   ]
  },
  {
   "cell_type": "code",
   "execution_count": 15,
   "id": "2b7dcc97-e3e3-48ae-b578-648de5ef926f",
   "metadata": {},
   "outputs": [],
   "source": [
    "x_in_dummy = pd.get_dummies(x_in, dtype=float)"
   ]
  },
  {
   "cell_type": "code",
   "execution_count": 16,
   "id": "4f2ffa44-0f89-4e09-b0c7-e9477501ca6f",
   "metadata": {},
   "outputs": [],
   "source": [
    "from sklearn.model_selection import train_test_split"
   ]
  },
  {
   "cell_type": "code",
   "execution_count": 17,
   "id": "02aa244e-b9b9-4f45-a5b5-f8da74c84b42",
   "metadata": {},
   "outputs": [],
   "source": [
    "y_train, y_test, x_train, x_test, sw_train, sw_test = train_test_split(y_in, x_in_dummy, sw, stratify=y_in['ir'], shuffle=True, test_size=0.2)"
   ]
  },
  {
   "cell_type": "code",
   "execution_count": 18,
   "id": "d23cea5c-30a5-490a-8b2a-38da0fdf1b5b",
   "metadata": {},
   "outputs": [
    {
     "name": "stdout",
     "output_type": "stream",
     "text": [
      "(8208, 85)\n",
      "(2052, 85)\n",
      "(8208, 1)\n",
      "(2052, 1)\n"
     ]
    }
   ],
   "source": [
    "print(x_train.shape)\n",
    "print(x_test.shape)\n",
    "print(y_train.shape)\n",
    "print(y_test.shape)"
   ]
  },
  {
   "cell_type": "code",
   "execution_count": 19,
   "id": "fb8a730f-55ef-4d29-a937-eecc420ac9e6",
   "metadata": {},
   "outputs": [],
   "source": [
    "y_train.to_csv('../output/05/y_train_no_alc.csv', index=True)\n",
    "x_train.to_csv('../output/05/x_train_no_alc.csv', index=True)\n",
    "y_test.to_csv('../output/05/y_test_no_alc.csv', index=True)\n",
    "x_test.to_csv('../output/05/x_test_no_alc.csv', index=True)\n",
    "sw_train.to_csv('../output/05/sw_train_no_alc.csv', index=True)"
   ]
  }
 ],
 "metadata": {
  "kernelspec": {
   "display_name": "Python 3 (ipykernel)",
   "language": "python",
   "name": "python3"
  },
  "language_info": {
   "codemirror_mode": {
    "name": "ipython",
    "version": 3
   },
   "file_extension": ".py",
   "mimetype": "text/x-python",
   "name": "python",
   "nbconvert_exporter": "python",
   "pygments_lexer": "ipython3",
   "version": "3.8.8"
  }
 },
 "nbformat": 4,
 "nbformat_minor": 5
}
