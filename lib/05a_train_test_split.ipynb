{
 "cells": [
  {
   "cell_type": "code",
   "execution_count": 3,
   "id": "2947b5da-a5b2-4658-aa70-d7e3342523e4",
   "metadata": {},
   "outputs": [],
   "source": [
    "import pandas as pd"
   ]
  },
  {
   "cell_type": "code",
   "execution_count": 4,
   "id": "b1efc5b9-dd22-4fbe-8585-21cb422d0707",
   "metadata": {},
   "outputs": [],
   "source": [
    "x_in = pd.read_csv('../output/04/mod_filt.csv', index_col=['SEQN'])"
   ]
  },
  {
   "cell_type": "code",
   "execution_count": 5,
   "id": "f28974d0-db10-4708-bc46-d29197b533ee",
   "metadata": {},
   "outputs": [],
   "source": [
    "y_in = pd.read_csv('../output/02/outcome_homa.csv', index_col=['SEQN'])"
   ]
  },
  {
   "cell_type": "code",
   "execution_count": 6,
   "id": "81f126c5-37ec-4ae5-980c-62da8da771e3",
   "metadata": {},
   "outputs": [],
   "source": [
    "sw = pd.read_csv('../output/02/sample_wt_homa.csv', index_col=['SEQN'])"
   ]
  },
  {
   "cell_type": "code",
   "execution_count": 7,
   "id": "7ebbee50-5c5b-42da-aa55-8dba0a1522fe",
   "metadata": {},
   "outputs": [
    {
     "name": "stdout",
     "output_type": "stream",
     "text": [
      "(13661, 80)\n",
      "(13661, 1)\n",
      "(13661, 1)\n"
     ]
    }
   ],
   "source": [
    "print(x_in.shape)\n",
    "print(y_in.shape)\n",
    "print(sw.shape)"
   ]
  },
  {
   "cell_type": "code",
   "execution_count": 8,
   "id": "2b7dcc97-e3e3-48ae-b578-648de5ef926f",
   "metadata": {},
   "outputs": [],
   "source": [
    "x_in_dummy = pd.get_dummies(x_in, dtype=float)"
   ]
  },
  {
   "cell_type": "code",
   "execution_count": 9,
   "id": "4f2ffa44-0f89-4e09-b0c7-e9477501ca6f",
   "metadata": {},
   "outputs": [],
   "source": [
    "from sklearn.model_selection import train_test_split"
   ]
  },
  {
   "cell_type": "code",
   "execution_count": 10,
   "id": "02aa244e-b9b9-4f45-a5b5-f8da74c84b42",
   "metadata": {},
   "outputs": [],
   "source": [
    "y_train, y_test, x_train, x_test, sw_train, sw_test = train_test_split(y_in, x_in_dummy, sw, stratify=y_in['ir'], shuffle=True, test_size=0.2)"
   ]
  },
  {
   "cell_type": "code",
   "execution_count": 11,
   "id": "d23cea5c-30a5-490a-8b2a-38da0fdf1b5b",
   "metadata": {},
   "outputs": [
    {
     "name": "stdout",
     "output_type": "stream",
     "text": [
      "(10928, 85)\n",
      "(2733, 85)\n",
      "(10928, 1)\n",
      "(2733, 1)\n"
     ]
    }
   ],
   "source": [
    "print(x_train.shape)\n",
    "print(x_test.shape)\n",
    "print(y_train.shape)\n",
    "print(y_test.shape)"
   ]
  },
  {
   "cell_type": "code",
   "execution_count": 12,
   "id": "a4ea3245-db2c-48fe-9b27-89b5fe45b882",
   "metadata": {},
   "outputs": [
    {
     "data": {
      "text/plain": [
       "Index(['Age', 'BMI', 'Carbohydrate', 'Fiber, total dietary', 'Sugars, total',\n",
       "       'Arabinan', 'Galactan', 'Xyloglucan', 'Xylan', 'Mannan', 'Beta-Glucan',\n",
       "       'Chitin', 'Starch', 'Cellulose', 'Galactomannan', 'Free_Fructose',\n",
       "       'Free_Glucose', 'Free_Sucrose', 'Free_Maltose',\n",
       "       'Free_Lactose(trehalose)', 'Free_Kestose', 'Free_Raffinose',\n",
       "       'Free_Maltotetraose', 'Free_Stachyose', 'Free_Verbascose',\n",
       "       'Free_Maltohexaose', 'Mono_Galactose', 'Mono_Fructose', 'Mono_Xylose',\n",
       "       'Mono_Fucose', 'Mono_Rhamnose', 'Mono_GalA', 'Mono_Mannose',\n",
       "       'Mono_Ribose', 't-Glucose', '4-Glucose', '6-Glucose',\n",
       "       '3-Glucose/3-Galactose', '2-Glucose', '4,6-Glucose', '3,4-Glucose',\n",
       "       '2,4-Glucose', '3,4,6-Glucose', 't-Galactose', '6-Galactose',\n",
       "       '4-Galactose', '2-Galactose', '4,6-Galactose', '3,6-Galactose',\n",
       "       '3,4-Galactose', 't-p-Xylose', '4-p-Xylose', '3-Xylose', '2-Xylose',\n",
       "       '3,4-P-Xylose/3,5-Arabinose', '2,4-p-Xylose', 't-f-Arabinose',\n",
       "       't-p-Arabinose', '5-f-Arabinose', '3-Arabinose', '2-f-Arabinose',\n",
       "       '2,3-f-Arabinose', 't-Fucose', 't-Rhamnose', '4-Rhamnose', '2-Rhamnose',\n",
       "       '2,4-Rhamnose', 't-Mannose', '4-Mannose', '3-Mannose', '2-Mannose',\n",
       "       '4,6-Mannose', '2,X-Mannose', '3,4,6-Mannose', 'poly_diversity',\n",
       "       'free_diversity', 'mono_diversity', 'linkage_diversity', 'Sex_Female',\n",
       "       'Sex_Male', 'Ethnicity_Mexican_American',\n",
       "       'Ethnicity_Non-Hispanic_Black', 'Ethnicity_Non-Hispanic_White',\n",
       "       'Ethnicity_Other_Hispanic', 'Ethnicity_Other_Multi-Racial'],\n",
       "      dtype='object')"
      ]
     },
     "execution_count": 12,
     "metadata": {},
     "output_type": "execute_result"
    }
   ],
   "source": [
    "x_train.columns"
   ]
  },
  {
   "cell_type": "code",
   "execution_count": 13,
   "id": "fb8a730f-55ef-4d29-a937-eecc420ac9e6",
   "metadata": {},
   "outputs": [],
   "source": [
    "y_train.to_csv('../output/05/y_train.csv', index=True)\n",
    "x_train.to_csv('../output/05/x_train.csv', index=True)\n",
    "y_test.to_csv('../output/05/y_test.csv', index=True)\n",
    "x_test.to_csv('../output/05/x_test.csv', index=True)\n",
    "sw_train.to_csv('../output/05/sw_train.csv', index=True)"
   ]
  }
 ],
 "metadata": {
  "kernelspec": {
   "display_name": "Python 3 (ipykernel)",
   "language": "python",
   "name": "python3"
  },
  "language_info": {
   "codemirror_mode": {
    "name": "ipython",
    "version": 3
   },
   "file_extension": ".py",
   "mimetype": "text/x-python",
   "name": "python",
   "nbconvert_exporter": "python",
   "pygments_lexer": "ipython3",
   "version": "3.8.8"
  }
 },
 "nbformat": 4,
 "nbformat_minor": 5
}
